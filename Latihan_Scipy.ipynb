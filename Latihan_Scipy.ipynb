{
  "nbformat": 4,
  "nbformat_minor": 0,
  "metadata": {
    "colab": {
      "name": "Latihan  Scipy.ipynb",
      "provenance": []
    },
    "kernelspec": {
      "name": "python3",
      "display_name": "Python 3"
    },
    "language_info": {
      "name": "python"
    }
  },
  "cells": [
    {
      "cell_type": "markdown",
      "source": [
        "1. Nilai dari √100"
      ],
      "metadata": {
        "id": "rJ5BmY4T0kvo"
      }
    },
    {
      "cell_type": "code",
      "execution_count": 16,
      "metadata": {
        "colab": {
          "base_uri": "https://localhost:8080/"
        },
        "id": "nXmwufrV0izC",
        "outputId": "e16bba9c-7653-42b2-e790-86b94df7ab88"
      },
      "outputs": [
        {
          "output_type": "stream",
          "name": "stdout",
          "text": [
            "10.0 10\n"
          ]
        }
      ],
      "source": [
        "import math as mt\n",
        "import sympy as sy\n",
        "a = mt.sqrt (100)\n",
        "b = sy.sqrt (100)\n",
        "print(a,b)"
      ]
    },
    {
      "cell_type": "code",
      "source": [
        "sy.sqrt(100)"
      ],
      "metadata": {
        "colab": {
          "base_uri": "https://localhost:8080/",
          "height": 37
        },
        "id": "j2vPY0_E05Rt",
        "outputId": "64b0054a-2fd1-48b0-f8fe-2c4650788cad"
      },
      "execution_count": 17,
      "outputs": [
        {
          "output_type": "execute_result",
          "data": {
            "text/plain": [
              "10"
            ],
            "image/png": "[encoded data removed]",
            "text/latex": "$\\displaystyle 10$"
          },
          "metadata": {},
          "execution_count": 17
        }
      ]
    },
    {
      "cell_type": "markdown",
      "source": [
        "2. Turunan dari x^2 + 4x - 3"
      ],
      "metadata": {
        "id": "jQCXs_O81u4o"
      }
    },
    {
      "cell_type": "code",
      "source": [
        "from sympy import symbols\n",
        "\n",
        "x = symbols ('x')\n",
        "\n",
        "y = x**2 + 4*x - 3\n",
        "c = diff(y,x)"
      ],
      "metadata": {
        "id": "xLi4BtoRAeVY"
      },
      "execution_count": 18,
      "outputs": []
    },
    {
      "cell_type": "code",
      "source": [
        "y"
      ],
      "metadata": {
        "colab": {
          "base_uri": "https://localhost:8080/",
          "height": 38
        },
        "id": "cHumdpRf2y9X",
        "outputId": "a9c14b59-ca55-4036-a2c3-ccac3c37a261"
      },
      "execution_count": null,
      "outputs": [
        {
          "output_type": "execute_result",
          "data": {
            "text/plain": [
              "x**2 + 4*x - 3"
            ],
            "text/latex": "$\\displaystyle x^{2} + 4 x - 3$"
          },
          "metadata": {},
          "execution_count": 10
        }
      ]
    },
    {
      "cell_type": "code",
      "source": [
        "c"
      ],
      "metadata": {
        "colab": {
          "base_uri": "https://localhost:8080/",
          "height": 38
        },
        "id": "jOwu7dQd21oq",
        "outputId": "0d58ac89-0baa-4ba5-92b1-0e12326b27bc"
      },
      "execution_count": null,
      "outputs": [
        {
          "output_type": "execute_result",
          "data": {
            "text/plain": [
              "2*x + 4"
            ],
            "text/latex": "$\\displaystyle 2 x + 4$"
          },
          "metadata": {},
          "execution_count": 11
        }
      ]
    },
    {
      "cell_type": "markdown",
      "source": [
        "3. Mengintegralkan x^2 + 4x - 3"
      ],
      "metadata": {
        "id": "bGD3SzVR3DLA"
      }
    },
    {
      "cell_type": "code",
      "source": [
        "from sympy import *\n",
        "x, t, z, nu = symbols ('x t z nu ')\n",
        "init_printing(use_unicode = True )\n",
        "\n",
        "y = x**2 + 4*x - 3\n",
        "\n",
        "d = integrate(y,x)"
      ],
      "metadata": {
        "id": "MqI14fER3Pit"
      },
      "execution_count": null,
      "outputs": []
    },
    {
      "cell_type": "code",
      "source": [
        "d"
      ],
      "metadata": {
        "colab": {
          "base_uri": "https://localhost:8080/",
          "height": 54
        },
        "id": "YPKFk0UaAYWd",
        "outputId": "0dc28685-1d3e-445c-8aa3-25d87beffb4b"
      },
      "execution_count": null,
      "outputs": [
        {
          "output_type": "execute_result",
          "data": {
            "text/plain": [
              " 3             \n",
              "x       2      \n",
              "── + 2⋅x  - 3⋅x\n",
              "3              "
            ],
            "image/png": "[encoded data removed]",
            "text/latex": "$\\displaystyle \\frac{x^{3}}{3} + 2 x^{2} - 3 x$"
          },
          "metadata": {},
          "execution_count": 22
        }
      ]
    },
    {
      "cell_type": "markdown",
      "source": [
        "4. Memfaktorkan x^2 - 4x + 4"
      ],
      "metadata": {
        "id": "beU4sFCK9-ha"
      }
    },
    {
      "cell_type": "code",
      "source": [
        "factor(x**2 - 4*x + 4)"
      ],
      "metadata": {
        "colab": {
          "base_uri": "https://localhost:8080/",
          "height": 39
        },
        "id": "Eackzh21-Fix",
        "outputId": "38917768-d56f-422b-ef62-472bf6d8c92d"
      },
      "execution_count": null,
      "outputs": [
        {
          "output_type": "execute_result",
          "data": {
            "text/plain": [
              "       2\n",
              "(x - 2) "
            ],
            "image/png": "[encoded data removed]",
            "text/latex": "$\\displaystyle \\left(x - 2\\right)^{2}$"
          },
          "metadata": {},
          "execution_count": 19
        }
      ]
    },
    {
      "cell_type": "markdown",
      "source": [
        "5. limit dari sin(x)/x"
      ],
      "metadata": {
        "id": "3Gvq97QL_93W"
      }
    },
    {
      "cell_type": "code",
      "source": [
        "limit((x*tan(x))/(1-(cos(3*x))) , x , 0)"
      ],
      "metadata": {
        "colab": {
          "base_uri": "https://localhost:8080/",
          "height": 51
        },
        "id": "pXS-8RZ4AF22",
        "outputId": "9980f0a9-8ef5-4fc3-b754-130876103872"
      },
      "execution_count": 15,
      "outputs": [
        {
          "output_type": "execute_result",
          "data": {
            "text/plain": [
              "2/9"
            ],
            "image/png": "[encoded data removed]",
            "text/latex": "$\\displaystyle \\frac{2}{9}$"
          },
          "metadata": {},
          "execution_count": 15
        }
      ]
    }
  ]
}